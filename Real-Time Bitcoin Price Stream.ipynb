{
 "cells": [
  {
   "cell_type": "code",
   "execution_count": 1,
   "metadata": {},
   "outputs": [],
   "source": [
    "#for API and formatting\n",
    "import json\n",
    "import requests"
   ]
  },
  {
   "cell_type": "code",
   "execution_count": 2,
   "metadata": {},
   "outputs": [],
   "source": [
    "#crypto info\n",
    "api_token = '6f3649af773a557fc3b78cb3c15f46eef78338ec9b6c7fa74f9f7ed642c00d0e'\n",
    "api_base_URL = 'https://min-api.cryptocompare.com/data/'\n",
    "headers = {'Content-Type': 'application/json',\n",
    "           'Authorization': 'Bearer {0}'.format(api_token)}"
   ]
  },
  {
   "cell_type": "code",
   "execution_count": 3,
   "metadata": {},
   "outputs": [],
   "source": [
    "#function that pulls data\n",
    "def get_crypto_info():\n",
    "    #api_url = 'price?fsym=BTC&tsyms=USD,JPY,EUR'.format(api_base_URL)\n",
    "    api_url = 'https://min-api.cryptocompare.com/data/price?fsym=BTC&tsyms=USD,JPY,EUR'\n",
    "    response = requests.get(api_url, headers=headers)\n",
    "    if response.status_code == 200:\n",
    "        return json.loads(response.content.decode('utf-8'))\n",
    "    else:\n",
    "        return None"
   ]
  },
  {
   "cell_type": "code",
   "execution_count": 5,
   "metadata": {},
   "outputs": [
    {
     "name": "stdout",
     "output_type": "stream",
     "text": [
      "7485.74\n"
     ]
    }
   ],
   "source": [
    "crypto_data = get_crypto_info()\n",
    "print(crypto_data.get('USD'))"
   ]
  },
  {
   "cell_type": "markdown",
   "metadata": {},
   "source": [
    "https://cx-oracle.readthedocs.io/en/6.4/module.html"
   ]
  },
  {
   "cell_type": "code",
   "execution_count": 28,
   "metadata": {},
   "outputs": [],
   "source": [
    "#for ADW\n",
    "import cx_Oracle\n",
    "import os"
   ]
  },
  {
   "cell_type": "code",
   "execution_count": 29,
   "metadata": {},
   "outputs": [],
   "source": [
    "os.environ['TNS_ADMIN'] = '/Users/asharifi/adb_virt_env'\n",
    "connection = cx_Oracle.connect('admin', 'Welcome1234#', 'db201910122155_high')"
   ]
  },
  {
   "cell_type": "code",
   "execution_count": 30,
   "metadata": {},
   "outputs": [],
   "source": [
    "#for executing sql to ADW\n",
    "cursor = connection.cursor()"
   ]
  },
  {
   "cell_type": "code",
   "execution_count": 31,
   "metadata": {},
   "outputs": [
    {
     "data": {
      "text/plain": [
       "[('Hello for ADB',)]"
      ]
     },
     "execution_count": 31,
     "metadata": {},
     "output_type": "execute_result"
    }
   ],
   "source": [
    "#testing connection\n",
    "rs = cursor.execute(\"select 'Hello for ADB' from dual\")\n",
    "rs.fetchall()"
   ]
  },
  {
   "cell_type": "code",
   "execution_count": 10,
   "metadata": {},
   "outputs": [],
   "source": [
    "#create ADW table to hold Crypto data\n",
    "#columns: Date, Bitcoin_in_USD\n",
    "#commenting out line below so not recreating the table\n",
    "#cursor.execute(\"Create Table Bitcoin_Prices4 (Price_DateTime Timestamp, USD_Price Float)\")"
   ]
  },
  {
   "cell_type": "markdown",
   "metadata": {},
   "source": [
    "https://stackoverflow.com/questions/40406755/send-a-list-of-lists-including-multiple-timestamp-queries-using-cx-oracle-execut\n"
   ]
  },
  {
   "cell_type": "code",
   "execution_count": 11,
   "metadata": {},
   "outputs": [],
   "source": [
    "#executes command\n",
    "#must clean float value before entering it into the database\n",
    "#WORKS\n",
    "#cursor.execute(\"\"\"INSERT INTO Bitcoin_Prices3 (Price_DateTime, USD_Price) values(to_date(20190102, 'yyyymmdd'), 7773.23332)\"\"\")"
   ]
  },
  {
   "cell_type": "markdown",
   "metadata": {},
   "source": [
    "#try using timestamp as the column data type to insert time\n",
    "https://www.oracletutorial.com/oracle-basics/oracle-timestamp/#:~:targetText=Introduction%20to%20Oracle%20TIMESTAMP%20data,by%20the%20DATE%20data%20type."
   ]
  },
  {
   "cell_type": "markdown",
   "metadata": {},
   "source": [
    "https://developer.oracle.com/dsl/prez-python-times-and-dates.html\n",
    "https://docs.oracle.com/cd/B12037_01/appdev.101/b10807/13_elems025.htm"
   ]
  },
  {
   "cell_type": "code",
   "execution_count": 23,
   "metadata": {},
   "outputs": [],
   "source": [
    "from time import sleep\n",
    "from datetime import timedelta, datetime\n",
    "import time"
   ]
  },
  {
   "cell_type": "code",
   "execution_count": 33,
   "metadata": {},
   "outputs": [],
   "source": [
    "HOUR = timedelta(hours=.01)\n",
    "last_update = datetime.now()\n",
    "while (datetime.now() - last_update < HOUR):\n",
    "    crypto_data = get_crypto_info()\n",
    "    cursor.execute(\"\"\"INSERT INTO Bitcoin_Prices3 \n",
    "                (\n",
    "                    Price_DateTime,\n",
    "                    USD_Price\n",
    "                ) \n",
    "                VALUES (:1, :2)\"\"\", (datetime.now(), crypto_data.get('USD')))\n",
    "    cursor.execute(\"\"\"COMMIT WORK\"\"\")\n",
    "    sleep(10)"
   ]
  },
  {
   "cell_type": "code",
   "execution_count": 32,
   "metadata": {},
   "outputs": [
    {
     "data": {
      "text/plain": [
       "[(datetime.datetime(2019, 1, 1, 0, 0), 7773.22),\n",
       " (datetime.datetime(2019, 1, 2, 0, 0), 7773.23332),\n",
       " (datetime.datetime(2017, 10, 20, 0, 0), 3333.33),\n",
       " (datetime.datetime(2017, 10, 20, 0, 0), 3333.33),\n",
       " (datetime.datetime(2017, 10, 20, 0, 0), 3333.33),\n",
       " (datetime.datetime(2009, 5, 5, 0, 0), 7363.57),\n",
       " (datetime.datetime(2009, 5, 30, 0, 0), 7363.57),\n",
       " (datetime.datetime(2009, 5, 30, 1, 1), 7363.57),\n",
       " (datetime.datetime(2009, 5, 30, 1, 1), 7363.57),\n",
       " (datetime.datetime(2019, 12, 3, 12, 31, 37), 7363.57),\n",
       " (datetime.datetime(2019, 12, 3, 18, 55, 20), 7151.0),\n",
       " (datetime.datetime(2019, 12, 3, 18, 56, 8), 7151.0),\n",
       " (datetime.datetime(2019, 12, 3, 18, 56, 38), 7151.0),\n",
       " (datetime.datetime(2019, 12, 3, 19, 44, 46), 7151.0),\n",
       " (datetime.datetime(2019, 12, 3, 19, 44, 56), 7151.0),\n",
       " (datetime.datetime(2019, 12, 3, 19, 45, 6), 7151.0),\n",
       " (datetime.datetime(2019, 12, 3, 19, 45, 16), 7151.0),\n",
       " (datetime.datetime(2019, 12, 3, 19, 47, 9), 7169.09),\n",
       " (datetime.datetime(2019, 12, 3, 19, 47, 19), 7169.09),\n",
       " (datetime.datetime(2019, 12, 3, 19, 47, 29), 7169.09),\n",
       " (datetime.datetime(2019, 12, 3, 19, 47, 39), 7169.09),\n",
       " (datetime.datetime(2019, 12, 3, 19, 48, 46), 7169.57),\n",
       " (datetime.datetime(2019, 12, 3, 19, 48, 57), 7168.45),\n",
       " (datetime.datetime(2019, 12, 3, 19, 49, 8), 7168.48),\n",
       " (datetime.datetime(2019, 12, 3, 19, 49, 19), 7168.33)]"
      ]
     },
     "execution_count": 32,
     "metadata": {},
     "output_type": "execute_result"
    }
   ],
   "source": [
    "#date and time are stored there\n",
    "query = cursor.execute(\"\"\"select * from bitcoin_prices3\"\"\")\n",
    "query.fetchall()"
   ]
  },
  {
   "cell_type": "code",
   "execution_count": null,
   "metadata": {},
   "outputs": [],
   "source": []
  }
 ],
 "metadata": {
  "kernelspec": {
   "display_name": "Python 3",
   "language": "python",
   "name": "python3"
  },
  "language_info": {
   "codemirror_mode": {
    "name": "ipython",
    "version": 3
   },
   "file_extension": ".py",
   "mimetype": "text/x-python",
   "name": "python",
   "nbconvert_exporter": "python",
   "pygments_lexer": "ipython3",
   "version": "3.6.5"
  }
 },
 "nbformat": 4,
 "nbformat_minor": 2
}
